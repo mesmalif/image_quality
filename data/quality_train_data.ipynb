{
 "cells": [
  {
   "cell_type": "code",
   "execution_count": 1,
   "id": "f98da4cd-a36a-4b4d-af8e-d44addcd10aa",
   "metadata": {},
   "outputs": [],
   "source": [
    "import nibabel as nbl\n",
    "import numpy as np\n",
    "import pandas as pd\n",
    "import pydicom as dicom\n",
    "import matplotlib.pylab as plt\n",
    "import os\n",
    "from skimage.transform import resize\n",
    "from sklearn.preprocessing import MinMaxScaler, StandardScaler\n",
    "from pickle import dump\n",
    "from sklearn.model_selection import train_test_split\n",
    "from loguru import logger\n",
    "import joblib\n",
    "from patient_list import get_test_patient_ids"
   ]
  },
  {
   "cell_type": "code",
   "execution_count": 2,
   "id": "dfced065-9162-4b4d-ab0f-cc927e4d47ec",
   "metadata": {},
   "outputs": [
    {
     "data": {
      "text/plain": [
       "'/Users/neginpiran/PycharmProjects/image_quality/data'"
      ]
     },
     "execution_count": 2,
     "metadata": {},
     "output_type": "execute_result"
    }
   ],
   "source": [
    "pwd"
   ]
  },
  {
   "cell_type": "code",
   "execution_count": 3,
   "id": "8eca91e7-2a81-4c3e-aa09-d33be891f2de",
   "metadata": {},
   "outputs": [
    {
     "data": {
      "text/plain": [
       "{1,\n",
       " 4,\n",
       " 8,\n",
       " 12,\n",
       " 15,\n",
       " 19,\n",
       " 23,\n",
       " 27,\n",
       " 32,\n",
       " 33,\n",
       " 34,\n",
       " 37,\n",
       " 39,\n",
       " 48,\n",
       " 59,\n",
       " 61,\n",
       " 65,\n",
       " 66,\n",
       " 77,\n",
       " 100,\n",
       " 102,\n",
       " 111,\n",
       " 117,\n",
       " 120,\n",
       " 124,\n",
       " 132,\n",
       " 144,\n",
       " 152,\n",
       " 153,\n",
       " 168}"
      ]
     },
     "execution_count": 3,
     "metadata": {},
     "output_type": "execute_result"
    }
   ],
   "source": [
    "IMG_HEIGHT = 256\n",
    "IMG_WIDTH = 256\n",
    "patient_test_list = get_test_patient_ids()\n",
    "patient_test_list"
   ]
  },
  {
   "cell_type": "code",
   "execution_count": 4,
   "id": "82eb1c48-d33b-4dcc-bc25-70d11eca0c60",
   "metadata": {},
   "outputs": [
    {
     "data": {
      "text/plain": [
       "'/Users/neginpiran/PycharmProjects/image_quality/data'"
      ]
     },
     "execution_count": 4,
     "metadata": {},
     "output_type": "execute_result"
    }
   ],
   "source": [
    "pwd"
   ]
  },
  {
   "cell_type": "code",
   "execution_count": 5,
   "id": "8f06cb64-4f87-4e67-9e09-80f743b4ea67",
   "metadata": {},
   "outputs": [
    {
     "data": {
      "text/html": [
       "<div>\n",
       "<style scoped>\n",
       "    .dataframe tbody tr th:only-of-type {\n",
       "        vertical-align: middle;\n",
       "    }\n",
       "\n",
       "    .dataframe tbody tr th {\n",
       "        vertical-align: top;\n",
       "    }\n",
       "\n",
       "    .dataframe thead th {\n",
       "        text-align: right;\n",
       "    }\n",
       "</style>\n",
       "<table border=\"1\" class=\"dataframe\">\n",
       "  <thead>\n",
       "    <tr style=\"text-align: right;\">\n",
       "      <th></th>\n",
       "      <th>Study ID</th>\n",
       "      <th>MRN</th>\n",
       "      <th>Date of MRI</th>\n",
       "      <th>Rectal Diameter; AP direction in cm</th>\n",
       "      <th>Rectal Content         0-collapsed rectum, no significant rectal content; 1-mostly solid stool, 2-mostly liquid stool, 3-mostly gas</th>\n",
       "      <th>label</th>\n",
       "      <th>Overall image quality DWI                                        1=non-diagnostic, 2=below average image quality but remains diagnostic, 3=average image quality, 4=above average image quality and 5=excellent image quality</th>\n",
       "    </tr>\n",
       "  </thead>\n",
       "  <tbody>\n",
       "    <tr>\n",
       "      <th>0</th>\n",
       "      <td>1</td>\n",
       "      <td>9851643</td>\n",
       "      <td>2019-01-03</td>\n",
       "      <td>6.2</td>\n",
       "      <td>3</td>\n",
       "      <td>2</td>\n",
       "      <td>4</td>\n",
       "    </tr>\n",
       "    <tr>\n",
       "      <th>1</th>\n",
       "      <td>2</td>\n",
       "      <td>41018870</td>\n",
       "      <td>2019-01-14</td>\n",
       "      <td>3.8</td>\n",
       "      <td>3</td>\n",
       "      <td>1</td>\n",
       "      <td>4</td>\n",
       "    </tr>\n",
       "    <tr>\n",
       "      <th>2</th>\n",
       "      <td>3</td>\n",
       "      <td>22335004</td>\n",
       "      <td>2019-01-16</td>\n",
       "      <td>2.2</td>\n",
       "      <td>3</td>\n",
       "      <td>2</td>\n",
       "      <td>5</td>\n",
       "    </tr>\n",
       "    <tr>\n",
       "      <th>3</th>\n",
       "      <td>4</td>\n",
       "      <td>24459091</td>\n",
       "      <td>2019-01-25</td>\n",
       "      <td>6.8</td>\n",
       "      <td>3</td>\n",
       "      <td>1</td>\n",
       "      <td>3</td>\n",
       "    </tr>\n",
       "    <tr>\n",
       "      <th>4</th>\n",
       "      <td>5</td>\n",
       "      <td>34866467</td>\n",
       "      <td>2019-01-23</td>\n",
       "      <td>4.5</td>\n",
       "      <td>3</td>\n",
       "      <td>1</td>\n",
       "      <td>4</td>\n",
       "    </tr>\n",
       "  </tbody>\n",
       "</table>\n",
       "</div>"
      ],
      "text/plain": [
       "   Study ID       MRN Date of MRI  Rectal Diameter; AP direction in cm  \\\n",
       "0         1   9851643  2019-01-03                                  6.2   \n",
       "1         2  41018870  2019-01-14                                  3.8   \n",
       "2         3  22335004  2019-01-16                                  2.2   \n",
       "3         4  24459091  2019-01-25                                  6.8   \n",
       "4         5  34866467  2019-01-23                                  4.5   \n",
       "\n",
       "   Rectal Content         0-collapsed rectum, no significant rectal content; 1-mostly solid stool, 2-mostly liquid stool, 3-mostly gas  \\\n",
       "0                                                  3                                                                                     \n",
       "1                                                  3                                                                                     \n",
       "2                                                  3                                                                                     \n",
       "3                                                  3                                                                                     \n",
       "4                                                  3                                                                                     \n",
       "\n",
       "   label  \\\n",
       "0      2   \n",
       "1      1   \n",
       "2      2   \n",
       "3      1   \n",
       "4      1   \n",
       "\n",
       "   Overall image quality DWI                                        1=non-diagnostic, 2=below average image quality but remains diagnostic, 3=average image quality, 4=above average image quality and 5=excellent image quality   \n",
       "0                                                  4                                                                                                                                                                               \n",
       "1                                                  4                                                                                                                                                                               \n",
       "2                                                  5                                                                                                                                                                               \n",
       "3                                                  3                                                                                                                                                                               \n",
       "4                                                  4                                                                                                                                                                               "
      ]
     },
     "execution_count": 5,
     "metadata": {},
     "output_type": "execute_result"
    }
   ],
   "source": [
    "csv_path = \"/Users/neginpiran/OneDrive/Documents/ImageQuality/all_labels.xlsx\" # T2 path\n",
    "# csv_path = \"/Users/neginpiran/OneDrive/Documents/ImageQuality/img_quality_adc.xlsx\" # ADC path\n",
    "df = pd.read_excel(csv_path)\n",
    "df.head()"
   ]
  },
  {
   "cell_type": "code",
   "execution_count": 6,
   "id": "13775a0b-a480-4e18-bb28-ed64314e3c7f",
   "metadata": {},
   "outputs": [],
   "source": [
    "rootdir = '/Users/neginpiran/OneDrive/Documents/ImageQuality/Prostate Quality Unsegmented Cases'\n",
    "\n",
    "img_list, label_list = [], []\n",
    "counter = 0\n",
    "for subdir, dirs, files in os.walk(rootdir):\n",
    "    for file in files:\n",
    "        counter += 1\n",
    "        # # T2 and not ADC nor loc\n",
    "        if 'DS_Store' not in file and 'DICOMDIR' not in file and \"T2\" in os.path.join(subdir, file) and 'ADC' not in os.path.join(subdir, file) and 'LOC' not in os.path.join(subdir, file):\n",
    "        # ADC and not T2 nor loc\n",
    "        # if 'DS_Store' not in file and 'DICOMDIR' not in file and \"ADC\" in os.path.join(subdir, file) and 'T2' not in os.path.join(subdir, file) and 'LOC' not in os.path.join(subdir, file):\n",
    "            # print(f'------- {subdir}')\n",
    "            # print(f'------- {subdir}')\n",
    "            image_path = os.path.join(subdir, file)\n",
    "            start_index = subdir.lower().find('ai study id')+107\n",
    "            end_index = -2 # -2 for T2 and -3 for ADC\n",
    "            # print(f\"subdir: {subdir}\")\n",
    "            # print(f'start_index: {start_index}')\n",
    "            # print(f\"ID: {subdir[start_index:end_index]}\")\n",
    "            ID = subdir[start_index:end_index]\n",
    "            if int(ID) not in patient_test_list:\n",
    "                # print(f'ID: {ID}')\n",
    "                dc_ar = dicom.dcmread(image_path).pixel_array\n",
    "                label = df[df['Study ID']==int(ID)]['label'].values[0]\n",
    "                img_list.append(dc_ar)\n",
    "                label_list.append(label)\n"
   ]
  },
  {
   "cell_type": "code",
   "execution_count": 7,
   "id": "e603be6e-7813-40a0-b4a4-03a2bf6d3d46",
   "metadata": {},
   "outputs": [],
   "source": [
    "# resize all images\n",
    "X = np.zeros((len(img_list), IMG_HEIGHT, IMG_WIDTH))\n",
    "y = np.zeros(len(img_list))\n",
    "for i in range(len(img_list)):\n",
    "    img = resize(img_list[i], (IMG_HEIGHT, IMG_WIDTH), mode='constant', preserve_range=True)\n",
    "    X[i,:,:] = img\n",
    "    y[i] = label_list[i]\n",
    "    "
   ]
  },
  {
   "cell_type": "code",
   "execution_count": 8,
   "id": "936ff8d8-4a1b-4f69-9aa3-601352094c99",
   "metadata": {},
   "outputs": [
    {
     "data": {
      "text/plain": [
       "3820"
      ]
     },
     "execution_count": 8,
     "metadata": {},
     "output_type": "execute_result"
    }
   ],
   "source": [
    "len(img_list)"
   ]
  },
  {
   "cell_type": "code",
   "execution_count": 9,
   "id": "c5109045-1269-4f2b-8d43-a79e7412e1a9",
   "metadata": {},
   "outputs": [
    {
     "data": {
      "text/plain": [
       "2.0"
      ]
     },
     "execution_count": 9,
     "metadata": {},
     "output_type": "execute_result"
    }
   ],
   "source": [
    "y.max()"
   ]
  },
  {
   "cell_type": "code",
   "execution_count": 10,
   "id": "5b6a9268-ad52-4bd7-a0b6-c99c6a130e22",
   "metadata": {},
   "outputs": [],
   "source": [
    "scaler = MinMaxScaler()\n",
    "\n",
    "# X_all = np.concatenate((X_peripheral, X_anterior), axis=0)\n",
    "# y_all = np.concatenate((y_peripheral, y_anterior), axis=0)\n",
    "X_scld = scaler.fit_transform(X.reshape(-1, X.shape[-1])).reshape(X.shape)\n",
    "joblib.dump(scaler, \"./scaler_patient.joblib\")\n",
    "X_final = np.expand_dims(X_scld, axis=3)\n",
    "y_final = np.expand_dims(y, axis=1)\n"
   ]
  },
  {
   "cell_type": "code",
   "execution_count": 11,
   "id": "d6fb7c58-0611-4633-92d2-b63d7d89a38c",
   "metadata": {},
   "outputs": [
    {
     "name": "stdout",
     "output_type": "stream",
     "text": [
      "X_final.shape: (3820, 256, 256, 1)\n",
      "y_final.shape: (3820, 1)\n"
     ]
    }
   ],
   "source": [
    "print(f'X_final.shape: {X_final.shape}')\n",
    "print(f'y_final.shape: {y_final.shape}')"
   ]
  },
  {
   "cell_type": "code",
   "execution_count": 12,
   "id": "79196bba-a94b-4b70-ab51-5f2ac01be833",
   "metadata": {},
   "outputs": [
    {
     "data": {
      "text/plain": [
       "1.0"
      ]
     },
     "execution_count": 12,
     "metadata": {},
     "output_type": "execute_result"
    }
   ],
   "source": [
    "X_final.max()"
   ]
  },
  {
   "cell_type": "code",
   "execution_count": 13,
   "id": "5a5f743d-748f-4b80-a0ca-04e6c5c6caea",
   "metadata": {},
   "outputs": [
    {
     "data": {
      "text/plain": [
       "0.19664417476820184"
      ]
     },
     "execution_count": 13,
     "metadata": {},
     "output_type": "execute_result"
    }
   ],
   "source": [
    "X_final.mean()"
   ]
  },
  {
   "cell_type": "code",
   "execution_count": 14,
   "id": "7e249174-641d-4d88-a5a5-79781073197e",
   "metadata": {},
   "outputs": [],
   "source": [
    "np.save('X_quality_train', X_final)\n",
    "np.save('y_quality_train', y_final)"
   ]
  },
  {
   "cell_type": "code",
   "execution_count": null,
   "id": "aee55a22-1362-4ef6-a574-fde6e1563731",
   "metadata": {},
   "outputs": [],
   "source": []
  }
 ],
 "metadata": {
  "kernelspec": {
   "display_name": "Python 3 (ipykernel)",
   "language": "python",
   "name": "python3"
  },
  "language_info": {
   "codemirror_mode": {
    "name": "ipython",
    "version": 3
   },
   "file_extension": ".py",
   "mimetype": "text/x-python",
   "name": "python",
   "nbconvert_exporter": "python",
   "pygments_lexer": "ipython3",
   "version": "3.7.13"
  }
 },
 "nbformat": 4,
 "nbformat_minor": 5
}
