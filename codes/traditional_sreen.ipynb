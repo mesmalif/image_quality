{
 "cells": [
  {
   "cell_type": "code",
   "execution_count": 3,
   "id": "e5121753-cfab-4275-b391-8c6465a257da",
   "metadata": {},
   "outputs": [],
   "source": [
    "# https://youtu.be/nK-2k_ENgEc\n",
    "\n",
    "import numpy as np \n",
    "import matplotlib.pyplot as plt\n",
    "import glob\n",
    "import cv2\n",
    "import os\n",
    "import seaborn as sns\n",
    "import pandas as pd\n",
    "from skimage.filters import sobel\n",
    "from sklearn.metrics import classification_report\n",
    "from sklearn.model_selection import train_test_split"
   ]
  },
  {
   "cell_type": "code",
   "execution_count": 5,
   "id": "597af53d-1c24-4596-aa21-da5fd5342c96",
   "metadata": {},
   "outputs": [
    {
     "name": "stdout",
     "output_type": "stream",
     "text": [
      "x_train.shape: (3408, 256, 256, 1), y_train.shape: (3408, 1)\n",
      "x_test.shape: (853, 256, 256, 1), y_test.shape: (853, 1)\n"
     ]
    }
   ],
   "source": [
    "X = np.load('../data/X_quality_train.npy')\n",
    "# y = np.array('./data/y_quality.npy')\n",
    "y = np.load('../data/y_quality_train.npy')\n",
    "\n",
    "x_train, x_test, y_train, y_test = train_test_split(X, y, test_size=0.2, random_state=42, shuffle = True)\n",
    "print(f'x_train.shape: {x_train.shape}, y_train.shape: {y_train.shape}')\n",
    "print(f'x_test.shape: {x_test.shape}, y_test.shape: {y_test.shape}')"
   ]
  },
  {
   "cell_type": "code",
   "execution_count": 5,
   "id": "45b4ae53-2494-48a5-974d-36c4f1bd413b",
   "metadata": {
    "tags": []
   },
   "outputs": [
    {
     "name": "stdout",
     "output_type": "stream",
     "text": [
      "image_features.shape: (243793920, 6)\n"
     ]
    }
   ],
   "source": [
    "\n",
    "\n",
    "###################################################################\n",
    "# FEATURE EXTRACTOR function\n",
    "# input shape is (n, x, y, c) - number of images, x, y, and channels\n",
    "def feature_extractor(dataset):\n",
    "    x_train = dataset\n",
    "    image_dataset = pd.DataFrame()\n",
    "    for image in range(x_train.shape[0]):  #iterate through each file \n",
    "        #print(image)\n",
    "        \n",
    "        df = pd.DataFrame()  #Temporary data frame to capture information for each loop.\n",
    "        #Reset dataframe to blank after each loop.\n",
    "        \n",
    "        input_img = x_train[image, :,:,:]\n",
    "        img = input_img\n",
    "    ################################################################\n",
    "    #START ADDING DATA TO THE DATAFRAME\n",
    "    #Add feature extractors, e.g. edge detection, smoothing, etc. \n",
    "            \n",
    "         # FEATURE 1 - Pixel values\n",
    "         \n",
    "        #Add pixel values to the data frame\n",
    "        pixel_values = img.reshape(-1)\n",
    "        df['Pixel_Value'] = pixel_values   #Pixel value itself as a feature\n",
    "        #df['Image_Name'] = image   #Capture image name as we read multiple images\n",
    "        \n",
    "        # FEATURE 2 - Bunch of Gabor filter responses\n",
    "        \n",
    "                #Generate Gabor features\n",
    "        num = 1  #To count numbers up in order to give Gabor features a lable in the data frame\n",
    "        kernels = []\n",
    "        for theta in range(2):   #Define number of thetas\n",
    "            theta = theta / 4. * np.pi\n",
    "            for sigma in (1, 3):  #Sigma with 1 and 3\n",
    "                lamda = np.pi/4\n",
    "                gamma = 0.5\n",
    "                gabor_label = 'Gabor' + str(num)  #Label Gabor columns as Gabor1, Gabor2, etc.\n",
    "    #                print(gabor_label)\n",
    "                ksize=9\n",
    "                kernel = cv2.getGaborKernel((ksize, ksize), sigma, theta, lamda, gamma, 0, ktype=cv2.CV_32F)    \n",
    "                kernels.append(kernel)\n",
    "                #Now filter the image and add values to a new column \n",
    "                fimg = cv2.filter2D(img, cv2.CV_8UC3, kernel)\n",
    "                filtered_img = fimg.reshape(-1)\n",
    "                df[gabor_label] = filtered_img  #Labels columns as Gabor1, Gabor2, etc.\n",
    "                # print(gabor_label, ': theta=', theta, ': sigma=', sigma, ': lamda=', lamda, ': gamma=', gamma)\n",
    "                num += 1  #Increment for gabor column label\n",
    "                \n",
    "         \n",
    "        # FEATURE 3 Sobel\n",
    "        edge_sobel = sobel(img)\n",
    "        edge_sobel1 = edge_sobel.reshape(-1)\n",
    "        df['Sobel'] = edge_sobel1\n",
    "       \n",
    "        #Add more filters as needed\n",
    "        \n",
    "        #Append features from current image to the dataset\n",
    "        image_dataset = image_dataset.append(df)\n",
    "        \n",
    "    return image_dataset\n",
    "####################################################################\n",
    "#Extract features from training images\n",
    "image_features = feature_extractor(x_train)\n",
    "print(f'image_features.shape: {image_features.shape}')\n"
   ]
  },
  {
   "cell_type": "code",
   "execution_count": 6,
   "id": "8050b649-62e6-410c-9982-fdfc6e629060",
   "metadata": {},
   "outputs": [
    {
     "name": "stdout",
     "output_type": "stream",
     "text": [
      "X_for_RF.shape: (3720, 393216)\n"
     ]
    }
   ],
   "source": [
    "#Reshape to a vector for Random Forest / SVM training\n",
    "n_features = image_features.shape[1]\n",
    "image_features = np.expand_dims(image_features, axis=0)\n",
    "X_for_RF = np.reshape(image_features, (x_train.shape[0], -1))  #Reshape to #images, features\n",
    "\n",
    "print(f'X_for_RF.shape: {X_for_RF.shape}')"
   ]
  },
  {
   "cell_type": "code",
   "execution_count": 7,
   "id": "b86f9e97-420f-4ac8-b51e-f04f1be3fc82",
   "metadata": {},
   "outputs": [
    {
     "name": "stderr",
     "output_type": "stream",
     "text": [
      "/Users/mesmalif/opt/anaconda3/envs/py37/lib/python3.7/site-packages/ipykernel_launcher.py:13: DataConversionWarning: A column-vector y was passed when a 1d array was expected. Please change the shape of y to (n_samples,), for example using ravel().\n",
      "  del sys.path[0]\n"
     ]
    },
    {
     "name": "stdout",
     "output_type": "stream",
     "text": [
      "test_prediction.shape:(931,)\n"
     ]
    }
   ],
   "source": [
    "\n",
    "#Define the classifier\n",
    "from sklearn.ensemble import RandomForestClassifier\n",
    "RF_model = RandomForestClassifier(n_estimators = 50, random_state = 42)\n",
    "\n",
    "\n",
    "#Can also use SVM but RF is faster and may be more accurate.\n",
    "#from sklearn import svm\n",
    "#SVM_model = svm.SVC(decision_function_shape='ovo')  #For multiclass classification\n",
    "#SVM_model.fit(X_for_RF, y_train)\n",
    "\n",
    "\n",
    "# Fit the model on training data\n",
    "RF_model.fit(X_for_RF, y_train) #For sklearn no one hot encoding\n",
    "\n",
    "\n",
    "#Predict on Test data\n",
    "#Extract features from test data and reshape, just like training data\n",
    "test_features = feature_extractor(x_test)\n",
    "test_features = np.expand_dims(test_features, axis=0)\n",
    "test_for_RF = np.reshape(test_features, (x_test.shape[0], -1))\n",
    "\n",
    "#Predict on test\n",
    "test_prediction = RF_model.predict(test_for_RF)\n",
    "#Inverse le transform to get original label back. \n",
    "# test_prediction = le.inverse_transform(test_prediction)\n",
    "print(f'test_prediction.shape:{test_prediction.shape}')"
   ]
  },
  {
   "cell_type": "code",
   "execution_count": 8,
   "id": "2ee1ec1a-404a-4dac-8f25-e4043ecd6972",
   "metadata": {},
   "outputs": [
    {
     "name": "stdout",
     "output_type": "stream",
     "text": [
      "Accuracy =  0.9087003222341569\n",
      "The prediction for this image is:  [2]\n",
      "The actual label for this image is:  [2]\n"
     ]
    },
    {
     "data": {
      "image/png": "[encoded data removed]",
      "text/plain": [
       "<Figure size 432x432 with 2 Axes>"
      ]
     },
     "metadata": {
      "needs_background": "light"
     },
     "output_type": "display_data"
    }
   ],
   "source": [
    "\n",
    "#Print overall accuracy\n",
    "from sklearn import metrics\n",
    "print (\"Accuracy = \", metrics.accuracy_score(y_test, test_prediction))\n",
    "\n",
    "#Print confusion matrix\n",
    "from sklearn.metrics import confusion_matrix\n",
    "cm = confusion_matrix(y_test, test_prediction)\n",
    "\n",
    "fig, ax = plt.subplots(figsize=(6,6))         # Sample figsize in inches\n",
    "sns.set(font_scale=1.6)\n",
    "sns.heatmap(cm, annot=True, ax=ax)\n",
    "\n",
    "#Check results on a few random images\n",
    "import random\n",
    "n=random.randint(0, x_test.shape[0]-1) #Select the index of image to be loaded for testing\n",
    "img = x_test[n]\n",
    "plt.imshow(img)\n",
    "\n",
    "#Extract features and reshape to right dimensions\n",
    "input_img = np.expand_dims(img, axis=0) #Expand dims so the input is (num images, x, y, c)\n",
    "input_img_features=feature_extractor(input_img)\n",
    "input_img_features = np.expand_dims(input_img_features, axis=0)\n",
    "input_img_for_RF = np.reshape(input_img_features, (input_img.shape[0], -1))\n",
    "#Predict\n",
    "img_prediction = RF_model.predict(input_img_for_RF)\n",
    "# img_prediction = le.inverse_transform([img_prediction])  #Reverse the label encoder to original name\n",
    "print(\"The prediction for this image is: \", img_prediction)\n",
    "print(\"The actual label for this image is: \", y_test[n])\n",
    "\n",
    "\n",
    "\n"
   ]
  },
  {
   "cell_type": "code",
   "execution_count": 9,
   "id": "4e0ddf5d-d083-44a3-87a0-fef5e621a965",
   "metadata": {},
   "outputs": [
    {
     "data": {
      "text/html": [
       "<div>\n",
       "<style scoped>\n",
       "    .dataframe tbody tr th:only-of-type {\n",
       "        vertical-align: middle;\n",
       "    }\n",
       "\n",
       "    .dataframe tbody tr th {\n",
       "        vertical-align: top;\n",
       "    }\n",
       "\n",
       "    .dataframe thead th {\n",
       "        text-align: right;\n",
       "    }\n",
       "</style>\n",
       "<table border=\"1\" class=\"dataframe\">\n",
       "  <thead>\n",
       "    <tr style=\"text-align: right;\">\n",
       "      <th></th>\n",
       "      <th>0</th>\n",
       "      <th>1</th>\n",
       "      <th>2</th>\n",
       "      <th>accuracy</th>\n",
       "      <th>macro avg</th>\n",
       "      <th>weighted avg</th>\n",
       "    </tr>\n",
       "  </thead>\n",
       "  <tbody>\n",
       "    <tr>\n",
       "      <th>precision</th>\n",
       "      <td>1.000000</td>\n",
       "      <td>0.994012</td>\n",
       "      <td>0.887097</td>\n",
       "      <td>0.9087</td>\n",
       "      <td>0.960370</td>\n",
       "      <td>0.918430</td>\n",
       "    </tr>\n",
       "    <tr>\n",
       "      <th>recall</th>\n",
       "      <td>0.606061</td>\n",
       "      <td>0.697479</td>\n",
       "      <td>1.000000</td>\n",
       "      <td>0.9087</td>\n",
       "      <td>0.767847</td>\n",
       "      <td>0.908700</td>\n",
       "    </tr>\n",
       "    <tr>\n",
       "      <th>f1-score</th>\n",
       "      <td>0.754717</td>\n",
       "      <td>0.819753</td>\n",
       "      <td>0.940171</td>\n",
       "      <td>0.9087</td>\n",
       "      <td>0.838214</td>\n",
       "      <td>0.902814</td>\n",
       "    </tr>\n",
       "    <tr>\n",
       "      <th>support</th>\n",
       "      <td>33.000000</td>\n",
       "      <td>238.000000</td>\n",
       "      <td>660.000000</td>\n",
       "      <td>0.9087</td>\n",
       "      <td>931.000000</td>\n",
       "      <td>931.000000</td>\n",
       "    </tr>\n",
       "  </tbody>\n",
       "</table>\n",
       "</div>"
      ],
      "text/plain": [
       "                   0           1           2  accuracy   macro avg  \\\n",
       "precision   1.000000    0.994012    0.887097    0.9087    0.960370   \n",
       "recall      0.606061    0.697479    1.000000    0.9087    0.767847   \n",
       "f1-score    0.754717    0.819753    0.940171    0.9087    0.838214   \n",
       "support    33.000000  238.000000  660.000000    0.9087  931.000000   \n",
       "\n",
       "           weighted avg  \n",
       "precision      0.918430  \n",
       "recall         0.908700  \n",
       "f1-score       0.902814  \n",
       "support      931.000000  "
      ]
     },
     "execution_count": 9,
     "metadata": {},
     "output_type": "execute_result"
    }
   ],
   "source": [
    "pd.DataFrame(classification_report(y_test, test_prediction, output_dict=True))"
   ]
  },
  {
   "cell_type": "code",
   "execution_count": null,
   "id": "ae0b0d09-e974-47ef-a9f7-29be451ed3b4",
   "metadata": {},
   "outputs": [],
   "source": []
  }
 ],
 "metadata": {
  "kernelspec": {
   "display_name": "Python 3 (ipykernel)",
   "language": "python",
   "name": "python3"
  },
  "language_info": {
   "codemirror_mode": {
    "name": "ipython",
    "version": 3
   },
   "file_extension": ".py",
   "mimetype": "text/x-python",
   "name": "python",
   "nbconvert_exporter": "python",
   "pygments_lexer": "ipython3",
   "version": "3.7.13"
  }
 },
 "nbformat": 4,
 "nbformat_minor": 5
}
